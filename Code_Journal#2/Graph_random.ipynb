{
 "cells": [
  {
   "metadata": {},
   "cell_type": "markdown",
   "source": "# Session 9",
   "id": "6ce4cc3f8978358e"
  },
  {
   "metadata": {},
   "cell_type": "markdown",
   "source": "Create a Jupyter notebook, import matplotlib. Use numpy to pull 1000 random numbers distributed uniformly between [0,1]. Histogram the random numbers into 100 bins, and plot the histogram. Label your axes and save the figure as a PDF.",
   "id": "38c64618beeaf436"
  },
  {
   "metadata": {},
   "cell_type": "markdown",
   "source": "Import everything",
   "id": "238463cd8a645256"
  },
  {
   "cell_type": "code",
   "id": "initial_id",
   "metadata": {
    "collapsed": true,
    "ExecuteTime": {
     "end_time": "2025-10-23T19:50:53.828104Z",
     "start_time": "2025-10-23T19:50:53.234170Z"
    }
   },
   "source": [
    "import numpy as np\n",
    "import matplotlib.pyplot as plt"
   ],
   "outputs": [],
   "execution_count": 1
  },
  {
   "metadata": {},
   "cell_type": "markdown",
   "source": "Use numpy to pull 1000 random numbers distributed uniformly between [0,1]",
   "id": "5007b6872509ddaf"
  },
  {
   "metadata": {
    "ExecuteTime": {
     "end_time": "2025-10-23T19:50:53.865600Z",
     "start_time": "2025-10-23T19:50:53.840427Z"
    }
   },
   "cell_type": "code",
   "source": "random_numbers = np.random.uniform(low=0.0, high=1.0, size=1000)",
   "id": "c0ff66e509b884db",
   "outputs": [],
   "execution_count": 2
  },
  {
   "metadata": {},
   "cell_type": "markdown",
   "source": "Histogram the random numbers into 100 bins, and plot the histogram. Label your axes and save the figure as a PDF.",
   "id": "9e9355c1261137d9"
  },
  {
   "metadata": {
    "ExecuteTime": {
     "end_time": "2025-10-23T19:50:54.422249Z",
     "start_time": "2025-10-23T19:50:53.881541Z"
    }
   },
   "cell_type": "code",
   "source": [
    "plt.hist(random_numbers, bins=100)\n",
    "plt.xlabel('random numbers')\n",
    "plt.ylabel('count')\n",
    "plt.savefig('random.pdf')\n",
    "plt.show()"
   ],
   "id": "8235e0d57bc6a812",
   "outputs": [
    {
     "data": {
      "text/plain": [
       "<Figure size 640x480 with 1 Axes>"
      ],
      "image/png": "[encoded data removed]"
     },
     "metadata": {},
     "output_type": "display_data",
     "jetTransient": {
      "display_id": null
     }
    }
   ],
   "execution_count": 3
  }
 ],
 "metadata": {
  "kernelspec": {
   "display_name": "Python 3",
   "language": "python",
   "name": "python3"
  },
  "language_info": {
   "codemirror_mode": {
    "name": "ipython",
    "version": 2
   },
   "file_extension": ".py",
   "mimetype": "text/x-python",
   "name": "python",
   "nbconvert_exporter": "python",
   "pygments_lexer": "ipython2",
   "version": "2.7.6"
  }
 },
 "nbformat": 4,
 "nbformat_minor": 5
}
