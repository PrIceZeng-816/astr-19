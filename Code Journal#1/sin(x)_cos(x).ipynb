{
 "cells": [
  {
   "metadata": {},
   "cell_type": "markdown",
   "source": "# First time using Jupyter Notebook\n",
   "id": "ade456b223a7a86b"
  },
  {
   "metadata": {},
   "cell_type": "markdown",
   "source": "Create a Jupyter Notebook where, in separate cells, you define functions that return sin(x) and cos(x).  Use Markdown cells to comment your Notebook, and describe what each function does. Create a third Python cell that will tabulate sin(x) and cos(x) using these previously defined functions vs. x, where x is tabulated between 0 and 2 with a thousand entries. Write a fourth Python cell that will use a for loop to print out the first 10 values of x, sin(x), and cos(x) in columns.",
   "id": "f8350ec7dbe639f9"
  },
  {
   "metadata": {},
   "cell_type": "markdown",
   "source": "Import the necessary components",
   "id": "93209b91aeedfec1"
  },
  {
   "cell_type": "code",
   "id": "initial_id",
   "metadata": {
    "collapsed": true,
    "ExecuteTime": {
     "end_time": "2025-10-07T19:01:23.034405Z",
     "start_time": "2025-10-07T19:01:23.027077Z"
    }
   },
   "source": [
    "import math\n",
    "import numpy as np\n",
    "from tabulate import tabulate"
   ],
   "outputs": [],
   "execution_count": 9
  },
  {
   "metadata": {},
   "cell_type": "markdown",
   "source": "Creat a function that returns the sine or cosine of a value x",
   "id": "e6e73f9c889a2c6b"
  },
  {
   "metadata": {
    "ExecuteTime": {
     "end_time": "2025-10-07T19:01:23.109027Z",
     "start_time": "2025-10-07T19:01:23.103666Z"
    }
   },
   "cell_type": "code",
   "source": [
    "def sin(x):\n",
    "    return math.sin(x)\n",
    "def cos(x):\n",
    "    return math.cos(x)"
   ],
   "id": "9d8ef70e76354556",
   "outputs": [],
   "execution_count": 10
  },
  {
   "metadata": {},
   "cell_type": "markdown",
   "source": "Similar function i wrote for previous part of the assignment, made some minor adjustment so it now take one more value for each set.",
   "id": "eb4985e3708e4ad8"
  },
  {
   "metadata": {
    "ExecuteTime": {
     "end_time": "2025-10-07T19:01:23.124870Z",
     "start_time": "2025-10-07T19:01:23.119798Z"
    }
   },
   "cell_type": "code",
   "source": [
    "end = 2*math.pi\n",
    "start = 0\n",
    "steps = 1000\n",
    "header = [\"x\",\"sin(x)\",\"cos(x)\"]\n",
    "\n",
    "x = np.linspace(start, end, steps)\n",
    "y = np.sin(x)\n",
    "z = np.cos(x)\n",
    "data = np.column_stack([x,y,z])"
   ],
   "id": "2d590c42227b3e2",
   "outputs": [],
   "execution_count": 11
  },
  {
   "metadata": {},
   "cell_type": "markdown",
   "source": "Limit so that only the first ten sets of data gets printed out",
   "id": "87a578deca4f0e74"
  },
  {
   "metadata": {
    "ExecuteTime": {
     "end_time": "2025-10-07T19:01:23.168122Z",
     "start_time": "2025-10-07T19:01:23.156948Z"
    }
   },
   "cell_type": "code",
   "source": [
    "first_ten = data[:10]\n",
    "table = tabulate(first_ten, header,floatfmt=\".10f\", tablefmt=\"github\")\n",
    "print(table)"
   ],
   "id": "d9ea768e5fd138cc",
   "outputs": [
    {
     "name": "stdout",
     "output_type": "stream",
     "text": [
      "|            x |       sin(x) |       cos(x) |\n",
      "|--------------|--------------|--------------|\n",
      "| 0.0000000000 | 0.0000000000 | 1.0000000000 |\n",
      "| 0.0062894748 | 0.0062894333 | 0.9999802213 |\n",
      "| 0.0125789496 | 0.0125786178 | 0.9999208861 |\n",
      "| 0.0188684243 | 0.0188673048 | 0.9998219966 |\n",
      "| 0.0251578991 | 0.0251552454 | 0.9996835567 |\n",
      "| 0.0314473739 | 0.0314421909 | 0.9995055721 |\n",
      "| 0.0377368487 | 0.0377278927 | 0.9992880496 |\n",
      "| 0.0440263235 | 0.0440121020 | 0.9990309980 |\n",
      "| 0.0503157983 | 0.0502945704 | 0.9987344273 |\n",
      "| 0.0566052730 | 0.0565750492 | 0.9983983493 |\n"
     ]
    }
   ],
   "execution_count": 12
  }
 ],
 "metadata": {
  "kernelspec": {
   "display_name": "Python 3",
   "language": "python",
   "name": "python3"
  },
  "language_info": {
   "codemirror_mode": {
    "name": "ipython",
    "version": 2
   },
   "file_extension": ".py",
   "mimetype": "text/x-python",
   "name": "python",
   "nbconvert_exporter": "python",
   "pygments_lexer": "ipython2",
   "version": "2.7.6"
  }
 },
 "nbformat": 4,
 "nbformat_minor": 5
}
