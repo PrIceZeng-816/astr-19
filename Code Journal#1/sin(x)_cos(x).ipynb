{
 "cells": [
  {
   "metadata": {},
   "cell_type": "markdown",
   "source": "# First time using Jupyter Notebook\n",
   "id": "ade456b223a7a86b"
  },
  {
   "metadata": {},
   "cell_type": "markdown",
   "source": "Create a Jupyter Notebook where, in separate cells, you define functions that return sin(x) and cos(x).  Use Markdown cells to comment your Notebook, and describe what each function does. Create a third Python cell that will tabulate sin(x) and cos(x) using these previously defined functions vs. x, where x is tabulated between 0 and 2 with a thousand entries. Write a fourth Python cell that will use a for loop to print out the first 10 values of x, sin(x), and cos(x) in columns.",
   "id": "f8350ec7dbe639f9"
  },
  {
   "metadata": {},
   "cell_type": "markdown",
   "source": "Import the necessary components",
   "id": "93209b91aeedfec1"
  },
  {
   "cell_type": "code",
   "id": "initial_id",
   "metadata": {
    "collapsed": true,
    "ExecuteTime": {
     "end_time": "2025-09-26T21:38:42.647740Z",
     "start_time": "2025-09-26T21:38:42.644511Z"
    }
   },
   "source": [
    "import math\n",
    "from tabulate import tabulate"
   ],
   "outputs": [],
   "execution_count": 43
  },
  {
   "metadata": {},
   "cell_type": "markdown",
   "source": "Creat a function that returns the sine or cosine of a value x",
   "id": "e6e73f9c889a2c6b"
  },
  {
   "metadata": {
    "ExecuteTime": {
     "end_time": "2025-09-26T21:38:42.659741Z",
     "start_time": "2025-09-26T21:38:42.656583Z"
    }
   },
   "cell_type": "code",
   "source": [
    "def sin(x):\n",
    "    return math.sin(x)\n",
    "def cos(x):\n",
    "    return math.cos(x)"
   ],
   "id": "9d8ef70e76354556",
   "outputs": [],
   "execution_count": 44
  },
  {
   "metadata": {},
   "cell_type": "markdown",
   "source": "Similar function i wrote for previous part of the assignment, made some minor adjustment so it now take one more value for each set.",
   "id": "eb4985e3708e4ad8"
  },
  {
   "metadata": {
    "ExecuteTime": {
     "end_time": "2025-09-26T21:38:42.671212Z",
     "start_time": "2025-09-26T21:38:42.667489Z"
    }
   },
   "cell_type": "code",
   "source": [
    "end = 2*math.pi\n",
    "start = 0\n",
    "steps = 1000\n",
    "increment_size = (end - start)/steps\n",
    "data = []\n",
    "header = [\"x\",\"sin(x)\",\"cos(x)\"]\n",
    "\n",
    "for i in range(steps):\n",
    "    data.append([start, sin(start), cos(start)])\n",
    "    start = start + increment_size\n",
    "\n",
    "\n"
   ],
   "id": "2d590c42227b3e2",
   "outputs": [],
   "execution_count": 45
  },
  {
   "metadata": {},
   "cell_type": "markdown",
   "source": "Limit so that only the first ten sets of data gets printed out",
   "id": "87a578deca4f0e74"
  },
  {
   "metadata": {
    "ExecuteTime": {
     "end_time": "2025-09-26T21:38:42.684774Z",
     "start_time": "2025-09-26T21:38:42.680633Z"
    }
   },
   "cell_type": "code",
   "source": [
    "first_ten = data[:10]\n",
    "table = tabulate(first_ten, header,floatfmt=\".10f\", tablefmt=\"github\")\n",
    "print(table)"
   ],
   "id": "d9ea768e5fd138cc",
   "outputs": [
    {
     "name": "stdout",
     "output_type": "stream",
     "text": [
      "|            x |       sin(x) |       cos(x) |\n",
      "|--------------|--------------|--------------|\n",
      "| 0.0000000000 | 0.0000000000 | 1.0000000000 |\n",
      "| 0.0062831853 | 0.0062831440 | 0.9999802609 |\n",
      "| 0.0125663706 | 0.0125660399 | 0.9999210442 |\n",
      "| 0.0188495559 | 0.0188484397 | 0.9998223524 |\n",
      "| 0.0251327412 | 0.0251300954 | 0.9996841893 |\n",
      "| 0.0314159265 | 0.0314107591 | 0.9995065604 |\n",
      "| 0.0376991118 | 0.0376901827 | 0.9992894726 |\n",
      "| 0.0439822972 | 0.0439681183 | 0.9990329347 |\n",
      "| 0.0502654825 | 0.0502443182 | 0.9987369566 |\n",
      "| 0.0565486678 | 0.0565185345 | 0.9984015501 |\n"
     ]
    }
   ],
   "execution_count": 46
  }
 ],
 "metadata": {
  "kernelspec": {
   "display_name": "Python 3",
   "language": "python",
   "name": "python3"
  },
  "language_info": {
   "codemirror_mode": {
    "name": "ipython",
    "version": 2
   },
   "file_extension": ".py",
   "mimetype": "text/x-python",
   "name": "python",
   "nbconvert_exporter": "python",
   "pygments_lexer": "ipython2",
   "version": "2.7.6"
  }
 },
 "nbformat": 4,
 "nbformat_minor": 5
}
